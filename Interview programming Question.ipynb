{
 "cells": [
  {
   "attachments": {},
   "cell_type": "markdown",
   "id": "50bf1f7e-40f7-4721-a12e-d068f0555f44",
   "metadata": {},
   "source": [
    "Problem Statement\n",
    "\n",
    "A number can eat the number to the right of it if it's smaller\n",
    "than itself. After eating that number, it becomes the sum of\n",
    "itself and that number. Your job is to return the final array after\n",
    "the leftmost element has finished \"eating\"\n",
    "\n",
    "Input & Output\n",
    "\n",
    "Input Format\n",
    "\n",
    ".\n",
    "The first line contains an integer n, the number of\n",
    "elements in input array.\n",
    "\n",
    ".\n",
    "The next line contains space-separated integers which are\n",
    "the elements of the array\n",
    "\n",
    "Input Constraints\n",
    "\n",
    ". Each array has at least 2 elements\n",
    ". Each element is an integer\n",
    "\n",
    "Output Format\n",
    "\n",
    "The output is an array of integers\n",
    "\n",
    "Examples\n",
    "\n",
    "Example 1\n",
    "\n",
    "Input\n",
    "\n",
    "4\n",
    "5 3 7 30\n",
    "\n",
    "Output\n",
    "\n",
    "15 30\n",
    "\n",
    "Explanation\n",
    "\n",
    "For the array a = [5, 3, 7, 30], size = 4\n",
    "\n",
    ". 5 eats 3 to get [8, 7, 30]\n",
    ". 8 eats 7 to get [15, 30]\n",
    ". 15 cannot eat 30 and hence [15, 30] is the final out put.\n",
    "Example 2\n",
    "\n",
    "Input\n",
    "3\n",
    "514\n",
    "Output\n",
    "10\n",
    "\n",
    "Explanation\n",
    "\n",
    "For the array a = [5, 1, 4] , size = 3\n",
    "\n",
    "· 5 eats 1 to get [6, 4].\n",
    ". 6 eats 4 to get [10] which is the final output\n",
    "\n",
    "User Task\n",
    "\n",
    "your task is to complete the function solution() and return the\n",
    "expected answer. You don't need to read the input, just write\n",
    "code within the function block directly."
   ]
  },
  {
   "cell_type": "code",
   "execution_count": 2,
   "id": "fa86bed8-2f5b-4e74-a2ec-8a21b1120e90",
   "metadata": {},
   "outputs": [
    {
     "name": "stdout",
     "output_type": "stream",
     "text": [
      "a\n"
     ]
    }
   ],
   "source": []
  }
 ],
 "metadata": {
  "kernelspec": {
   "display_name": "Python 3 (ipykernel)",
   "language": "python",
   "name": "python3"
  },
  "language_info": {
   "codemirror_mode": {
    "name": "ipython",
    "version": 3
   },
   "file_extension": ".py",
   "mimetype": "text/x-python",
   "name": "python",
   "nbconvert_exporter": "python",
   "pygments_lexer": "ipython3",
   "version": "3.12.6"
  }
 },
 "nbformat": 4,
 "nbformat_minor": 5
}
