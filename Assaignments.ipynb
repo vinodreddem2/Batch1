{
 "cells": [
  {
   "cell_type": "markdown",
   "id": "08608286-9a34-4085-a6f4-98167be6507d",
   "metadata": {},
   "source": [
    "1. Write a program that takes two integers as input and prints their sum, difference, product, and quotient."
   ]
  },
  {
   "cell_type": "code",
   "execution_count": 4,
   "id": "8cc8db22-35fb-46ec-a2ae-837f5efd7676",
   "metadata": {},
   "outputs": [
    {
     "name": "stdin",
     "output_type": "stream",
     "text": [
      "enter the value of a 10\n",
      "enter the value of b 12\n"
     ]
    },
    {
     "name": "stdout",
     "output_type": "stream",
     "text": [
      "22\n",
      "-2\n",
      "120\n"
     ]
    }
   ],
   "source": [
    "a=int(input('enter the value of a'))\n",
    "b=int(input('enter the value of b'))\n",
    "print(a+b)\n",
    "print(a-b)\n",
    "print(a*b)"
   ]
  },
  {
   "cell_type": "markdown",
   "id": "2c280e20-3195-4b1e-a700-f0fc02fe8bfe",
   "metadata": {},
   "source": [
    "2. Create a program that takes a float as input and prints it rounded to two decimal places."
   ]
  },
  {
   "cell_type": "code",
   "execution_count": 3,
   "id": "d08bd9cf-897a-42f5-85e0-936af8f6c622",
   "metadata": {},
   "outputs": [
    {
     "data": {
      "text/plain": [
       "5.0"
      ]
     },
     "execution_count": 3,
     "metadata": {},
     "output_type": "execute_result"
    }
   ],
   "source": [
    "float_input = 10.6\n",
    "out_put = float_input//2\n",
    "out_put"
   ]
  },
  {
   "cell_type": "markdown",
   "id": "02f13c3a-a478-4681-8356-4b45ca0ec072",
   "metadata": {},
   "source": [
    "3. Write a function that takes two strings as input and returns a single string that combines them with a space in between."
   ]
  },
  {
   "cell_type": "code",
   "execution_count": null,
   "id": "ad1a4c4b-9923-4be5-a2c5-9ea6ddcbb559",
   "metadata": {},
   "outputs": [],
   "source": []
  },
  {
   "cell_type": "markdown",
   "id": "cd2ebf41-455c-45a9-8cc4-e019c6223e52",
   "metadata": {},
   "source": [
    "def sum_num(a,b):\n",
    "    res=a+' '+b\n",
    "    return res\n",
    "sum_num('Hi','I am naveen')"
   ]
  },
  {
   "cell_type": "markdown",
   "id": "bc1bb767-26c2-4bfd-8f32-171a4809c6ac",
   "metadata": {},
   "source": [
    "4. Create a function that checks if a given string is a palindrome (reads the same forwards and backwards) and returns True or False."
   ]
  },
  {
   "cell_type": "code",
   "execution_count": 16,
   "id": "c84d2579-e2c8-4ab5-931c-ffb3da6f5c0a",
   "metadata": {},
   "outputs": [
    {
     "data": {
      "text/plain": [
       "True"
      ]
     },
     "execution_count": 16,
     "metadata": {},
     "output_type": "execute_result"
    }
   ],
   "source": [
    "str='ABCDCBA'\n",
    "def palin():\n",
    "    out=str[::-1]\n",
    "    if str==out:\n",
    "        return True\n",
    "    else:\n",
    "        return False\n",
    "palin()"
   ]
  },
  {
   "cell_type": "markdown",
   "id": "cbab437c-35bc-47da-9a8a-d2ad0d1dba80",
   "metadata": {},
   "source": [
    "5. Write a function that takes a string as input and returns the string reversed."
   ]
  },
  {
   "cell_type": "code",
   "execution_count": 18,
   "id": "2b54b8fa-9ad5-4b2e-be5d-b666323bf66d",
   "metadata": {},
   "outputs": [
    {
     "data": {
      "text/plain": [
       "'gnireenignE'"
      ]
     },
     "execution_count": 18,
     "metadata": {},
     "output_type": "execute_result"
    }
   ],
   "source": [
    "def str_inp(var):\n",
    "    var=var[::-1]\n",
    "    return var\n",
    "str_inp('Engineering')"
   ]
  },
  {
   "cell_type": "markdown",
   "id": "69ff1d0b-b72b-4ab0-9546-0bd2590970f5",
   "metadata": {},
   "source": [
    "6. Write a function that takes a string and returns a new string where all uppercase letters are converted to lowercase and vice versa."
   ]
  },
  {
   "cell_type": "code",
   "execution_count": 36,
   "id": "04506d76-32ef-4bd5-a73b-3e6ca38154dc",
   "metadata": {},
   "outputs": [
    {
     "data": {
      "text/plain": [
       "'hI w aRE pYTHON developers'"
      ]
     },
     "execution_count": 36,
     "metadata": {},
     "output_type": "execute_result"
    }
   ],
   "source": [
    "\n",
    "def fun(str):\n",
    "    str=str.swapcase()\n",
    "    return str\n",
    "fun('Hi W Are Python DEVELOPERS')\n",
    "    "
   ]
  },
  {
   "cell_type": "code",
   "execution_count": null,
   "id": "858152c0-1275-4554-a742-ba456d39d140",
   "metadata": {},
   "outputs": [],
   "source": []
  },
  {
   "cell_type": "markdown",
   "id": "60f9d1bd-97cb-43f7-b71f-130b83fafce9",
   "metadata": {},
   "source": [
    "7. write a program that checks if one string is a substring of another string and prints the result."
   ]
  },
  {
   "cell_type": "code",
   "execution_count": 32,
   "id": "e48d90f1-2c92-4658-b228-610f902783d7",
   "metadata": {},
   "outputs": [
    {
     "name": "stdout",
     "output_type": "stream",
     "text": [
      "substring present\n"
     ]
    }
   ],
   "source": [
    "str='This is the besttime to do things'\n",
    "sub_str='besttime'\n",
    "if sub_str in str:\n",
    "    print('substring present')\n",
    "else:\n",
    "    print('not present')"
   ]
  },
  {
   "cell_type": "markdown",
   "id": "e523ccf1-82b1-496c-baac-69cd1f56ccf4",
   "metadata": {},
   "source": [
    "8.Create a function that takes a string and removes all whitespace characters (spaces, tabs, etc.) from it."
   ]
  },
  {
   "cell_type": "code",
   "execution_count": 40,
   "id": "ae90e97f-90de-4ffb-9b51-de2d6cd89486",
   "metadata": {},
   "outputs": [
    {
     "ename": "TypeError",
     "evalue": "'str' object is not callable",
     "output_type": "error",
     "traceback": [
      "\u001b[1;31m---------------------------------------------------------------------------\u001b[0m",
      "\u001b[1;31mTypeError\u001b[0m                                 Traceback (most recent call last)",
      "Cell \u001b[1;32mIn[40], line 7\u001b[0m\n\u001b[0;32m      5\u001b[0m         res\u001b[38;5;241m=\u001b[39mres\u001b[38;5;241m+\u001b[39m\u001b[38;5;28mstr\u001b[39m(i)\n\u001b[0;32m      6\u001b[0m     \u001b[38;5;28;01mreturn\u001b[39;00m res\n\u001b[1;32m----> 7\u001b[0m \u001b[43mremove\u001b[49m\u001b[43m(\u001b[49m\u001b[38;5;124;43m'\u001b[39;49m\u001b[38;5;124;43mIf you practice well everything is easy\u001b[39;49m\u001b[38;5;124;43m'\u001b[39;49m\u001b[43m)\u001b[49m\n",
      "Cell \u001b[1;32mIn[40], line 5\u001b[0m, in \u001b[0;36mremove\u001b[1;34m(str)\u001b[0m\n\u001b[0;32m      3\u001b[0m res\u001b[38;5;241m=\u001b[39m\u001b[38;5;124m'\u001b[39m\u001b[38;5;124m \u001b[39m\u001b[38;5;124m'\u001b[39m\n\u001b[0;32m      4\u001b[0m \u001b[38;5;28;01mfor\u001b[39;00m i \u001b[38;5;129;01min\u001b[39;00m \u001b[38;5;28mrange\u001b[39m(\u001b[38;5;241m0\u001b[39m,\u001b[38;5;28mlen\u001b[39m(var)):\n\u001b[1;32m----> 5\u001b[0m     res\u001b[38;5;241m=\u001b[39mres\u001b[38;5;241m+\u001b[39m\u001b[38;5;28;43mstr\u001b[39;49m\u001b[43m(\u001b[49m\u001b[43mi\u001b[49m\u001b[43m)\u001b[49m\n\u001b[0;32m      6\u001b[0m \u001b[38;5;28;01mreturn\u001b[39;00m res\n",
      "\u001b[1;31mTypeError\u001b[0m: 'str' object is not callable"
     ]
    }
   ],
   "source": [
    "def remove(str):\n",
    "    var=str.split()\n",
    "    res=' '\n",
    "    for i in range(0,len(var)):\n",
    "        res=res+str(i)\n",
    "    return res\n",
    "remove('If you practice well everything is easy')"
   ]
  },
  {
   "cell_type": "markdown",
   "id": "8033e48b-e9e7-4d13-9f47-205f55079089",
   "metadata": {},
   "source": [
    "9. Write a function that counts the number of words in a given string. Assume words are separated by spaces."
   ]
  },
  {
   "cell_type": "code",
   "execution_count": 44,
   "id": "4ca642aa-dfec-4257-bae2-b46ba83163bb",
   "metadata": {},
   "outputs": [
    {
     "name": "stdout",
     "output_type": "stream",
     "text": [
      "15\n"
     ]
    }
   ],
   "source": [
    "def count(str):\n",
    "    res=0\n",
    "    fin=str.split()\n",
    "    for i in range(0,len(fin)):\n",
    "        res=res+i\n",
    "    print(res)\n",
    "count('Never give up until you die')"
   ]
  },
  {
   "cell_type": "markdown",
   "id": "f6eace93-45f0-4159-aa6a-09a6f8bb106b",
   "metadata": {},
   "source": [
    "10. Implement a function that compresses a string by replacing consecutive repeated characters with a single character followed by the count of occurrences (e.g., \"aaabb\" becomes \"a3b2\")"
   ]
  },
  {
   "cell_type": "code",
   "execution_count": 46,
   "id": "ca780a46-d2a8-4384-a35d-b8b200612686",
   "metadata": {},
   "outputs": [
    {
     "ename": "TypeError",
     "evalue": "'str' object is not callable",
     "output_type": "error",
     "traceback": [
      "\u001b[1;31m---------------------------------------------------------------------------\u001b[0m",
      "\u001b[1;31mTypeError\u001b[0m                                 Traceback (most recent call last)",
      "Cell \u001b[1;32mIn[46], line 8\u001b[0m\n\u001b[0;32m      6\u001b[0m         count\u001b[38;5;241m+\u001b[39m\u001b[38;5;241m=\u001b[39m\u001b[38;5;241m1\u001b[39m\n\u001b[0;32m      7\u001b[0m     \u001b[38;5;28;01melse\u001b[39;00m:\n\u001b[1;32m----> 8\u001b[0m         res\u001b[38;5;241m=\u001b[39mres\u001b[38;5;241m+\u001b[39m\u001b[38;5;28;43mstr\u001b[39;49m\u001b[43m(\u001b[49m\u001b[43mcount\u001b[49m\u001b[43m)\u001b[49m\u001b[38;5;241m+\u001b[39ms[i]\n\u001b[0;32m      9\u001b[0m         count\u001b[38;5;241m=\u001b[39m\u001b[38;5;241m1\u001b[39m\n\u001b[0;32m     10\u001b[0m res\u001b[38;5;241m=\u001b[39mres\u001b[38;5;241m+\u001b[39m\u001b[38;5;28mstr\u001b[39m(count)\u001b[38;5;241m+\u001b[39ms[i\u001b[38;5;241m+\u001b[39m\u001b[38;5;241m1\u001b[39m]\n",
      "\u001b[1;31mTypeError\u001b[0m: 'str' object is not callable"
     ]
    }
   ],
   "source": [
    "s='aaabb'\n",
    "count=1\n",
    "res=' '\n",
    "for i in range(0,len(s)-1):\n",
    "    if s[i]==s[i+1]:\n",
    "        count+=1\n",
    "    else:\n",
    "        res=res+str(count)+s[i]\n",
    "        count=1\n",
    "res=res+str(count)+s[i+1]\n",
    "print(res)\n",
    "    "
   ]
  },
  {
   "cell_type": "markdown",
   "id": "6c7e1da9-ba52-43f7-8c51-99267f2353a8",
   "metadata": {},
   "source": [
    "11. 2. Write a Python program to count the number of characters (character frequency) in a string.\n",
    "Sample String : google.com'\n",
    "Expected Result : {'g': 2, 'o': 3, 'l': 1, 'e': 1, '.': 1, 'c': 1, 'm': 1}"
   ]
  },
  {
   "cell_type": "code",
   "execution_count": 48,
   "id": "6f30c4e6-2fcd-46ad-ad81-41c68d1e0054",
   "metadata": {},
   "outputs": [
    {
     "name": "stdout",
     "output_type": "stream",
     "text": [
      "a=3\n",
      "a=3\n",
      "a=3\n",
      "b=2\n",
      "b=2\n"
     ]
    }
   ],
   "source": [
    "str='google.com'\n",
    "res=''\n",
    "for i in range(0,len(s)):\n",
    "    if str[i] not in res:\n",
    "        res+=s[i]\n",
    "        print(f'{s[i]}={s.count(s[i])}')"
   ]
  },
  {
   "cell_type": "code",
   "execution_count": null,
   "id": "6c181b14-29c9-48e0-b15a-b1f534d9d909",
   "metadata": {},
   "outputs": [],
   "source": []
  },
  {
   "cell_type": "code",
   "execution_count": null,
   "id": "4c0e0466-7896-427f-8ab1-ef96b56ab274",
   "metadata": {},
   "outputs": [],
   "source": []
  },
  {
   "cell_type": "code",
   "execution_count": null,
   "id": "1e5f3ef2-6465-4ea9-8c41-ddcf23adb6ad",
   "metadata": {},
   "outputs": [],
   "source": []
  },
  {
   "cell_type": "code",
   "execution_count": null,
   "id": "e6068693-66d0-491e-a1fc-357740a8b6d2",
   "metadata": {},
   "outputs": [],
   "source": []
  },
  {
   "cell_type": "code",
   "execution_count": null,
   "id": "2f430bed-bafb-4d4b-8c07-1af89fabda34",
   "metadata": {},
   "outputs": [],
   "source": []
  },
  {
   "cell_type": "code",
   "execution_count": null,
   "id": "911b7dca-dc19-4512-a7e8-6df73a2f11d1",
   "metadata": {},
   "outputs": [],
   "source": []
  },
  {
   "cell_type": "code",
   "execution_count": null,
   "id": "c9968c29-3028-4469-8a04-5c2d6fe9a5eb",
   "metadata": {},
   "outputs": [],
   "source": []
  },
  {
   "cell_type": "code",
   "execution_count": null,
   "id": "811825eb-b95e-4511-ab40-0e97a50b3b96",
   "metadata": {},
   "outputs": [],
   "source": []
  },
  {
   "cell_type": "code",
   "execution_count": null,
   "id": "1128dcb1-2668-4f60-add0-99344fda91c3",
   "metadata": {},
   "outputs": [],
   "source": []
  },
  {
   "cell_type": "code",
   "execution_count": null,
   "id": "977641d6-97bd-4a79-bbe4-cc717931173a",
   "metadata": {},
   "outputs": [],
   "source": []
  },
  {
   "cell_type": "code",
   "execution_count": null,
   "id": "9ca27656-d176-4b79-9393-86d92e9ca437",
   "metadata": {},
   "outputs": [],
   "source": []
  },
  {
   "cell_type": "code",
   "execution_count": null,
   "id": "eb69a703-1496-4305-8b29-82de3bfc36cf",
   "metadata": {},
   "outputs": [],
   "source": []
  },
  {
   "cell_type": "code",
   "execution_count": null,
   "id": "0a24edea-0dda-40c0-bfc4-adb6b2812200",
   "metadata": {},
   "outputs": [],
   "source": []
  },
  {
   "cell_type": "code",
   "execution_count": null,
   "id": "f1b8e416-0c0b-4da5-943b-28cfeb1c496c",
   "metadata": {},
   "outputs": [],
   "source": []
  },
  {
   "cell_type": "code",
   "execution_count": null,
   "id": "ad29dc64-8031-46f8-8263-348b561879a4",
   "metadata": {},
   "outputs": [],
   "source": []
  },
  {
   "cell_type": "code",
   "execution_count": null,
   "id": "878ae97b-ea63-4729-9cb5-a8c7c68562d2",
   "metadata": {},
   "outputs": [],
   "source": []
  },
  {
   "cell_type": "code",
   "execution_count": null,
   "id": "1df5dba5-e5d3-4ba0-bb99-29199353f7e5",
   "metadata": {},
   "outputs": [],
   "source": []
  },
  {
   "cell_type": "code",
   "execution_count": null,
   "id": "59851d64-d414-4a6b-87b4-c4e1631de563",
   "metadata": {},
   "outputs": [],
   "source": []
  },
  {
   "cell_type": "code",
   "execution_count": null,
   "id": "72ad975d-65f2-46f7-b196-ddc9e9762f4d",
   "metadata": {},
   "outputs": [],
   "source": []
  },
  {
   "cell_type": "code",
   "execution_count": null,
   "id": "d62eb263-a4b5-40e1-8f33-159af9bc9b1f",
   "metadata": {},
   "outputs": [],
   "source": []
  },
  {
   "cell_type": "code",
   "execution_count": null,
   "id": "5312df66-8191-4345-949c-4753e4af16c7",
   "metadata": {},
   "outputs": [],
   "source": []
  },
  {
   "cell_type": "code",
   "execution_count": null,
   "id": "c4ba1996-b995-49d8-8b29-62e959d79442",
   "metadata": {},
   "outputs": [],
   "source": []
  },
  {
   "cell_type": "code",
   "execution_count": null,
   "id": "b73648ba-f2c5-4a24-ac14-d5980bd0dc49",
   "metadata": {},
   "outputs": [],
   "source": []
  },
  {
   "cell_type": "code",
   "execution_count": null,
   "id": "41313da1-729f-461b-8f2a-4a656cf3c140",
   "metadata": {},
   "outputs": [],
   "source": []
  },
  {
   "cell_type": "code",
   "execution_count": null,
   "id": "4b5e5b03-9dbb-4779-86bf-f0533615a8a5",
   "metadata": {},
   "outputs": [],
   "source": []
  },
  {
   "cell_type": "code",
   "execution_count": null,
   "id": "556b1cbc-e0a6-4138-8ad9-8125d567fbeb",
   "metadata": {},
   "outputs": [],
   "source": []
  },
  {
   "cell_type": "code",
   "execution_count": null,
   "id": "f48b118c-c325-4764-a320-91cec47dfcf6",
   "metadata": {},
   "outputs": [],
   "source": []
  },
  {
   "cell_type": "code",
   "execution_count": null,
   "id": "0451e863-6291-4710-afcd-b9c137f4f81b",
   "metadata": {},
   "outputs": [],
   "source": []
  },
  {
   "cell_type": "code",
   "execution_count": null,
   "id": "c0a3b1be-6fce-4af1-82aa-123bf29f52fc",
   "metadata": {},
   "outputs": [],
   "source": []
  },
  {
   "cell_type": "code",
   "execution_count": null,
   "id": "b62fa274-6593-4827-bc02-175b79f61fd4",
   "metadata": {},
   "outputs": [],
   "source": []
  },
  {
   "cell_type": "code",
   "execution_count": null,
   "id": "4fea7ac6-e2f9-4f07-80c4-82a5ec48883a",
   "metadata": {},
   "outputs": [],
   "source": []
  },
  {
   "cell_type": "code",
   "execution_count": null,
   "id": "d4c05ea8-a2f3-45e0-9ede-9eaba51b77bf",
   "metadata": {},
   "outputs": [],
   "source": []
  },
  {
   "cell_type": "code",
   "execution_count": null,
   "id": "40b90bd0-c0e5-40e8-aaf4-9f3cf519e96a",
   "metadata": {},
   "outputs": [],
   "source": []
  },
  {
   "cell_type": "code",
   "execution_count": null,
   "id": "a39baf61-517b-4f03-9db8-b631906f8e78",
   "metadata": {},
   "outputs": [],
   "source": []
  },
  {
   "cell_type": "code",
   "execution_count": null,
   "id": "fff3e46f-cd86-40d7-9886-beadd4aa7d3a",
   "metadata": {},
   "outputs": [],
   "source": []
  },
  {
   "cell_type": "code",
   "execution_count": null,
   "id": "8b8f55e7-e408-4b77-a488-904e33fb60dd",
   "metadata": {},
   "outputs": [],
   "source": []
  },
  {
   "cell_type": "code",
   "execution_count": null,
   "id": "01918a49-f9c8-4278-bf68-06a39212d1c5",
   "metadata": {},
   "outputs": [],
   "source": []
  },
  {
   "cell_type": "code",
   "execution_count": null,
   "id": "0391f696-330e-4531-bb39-bdd834e5d9a7",
   "metadata": {},
   "outputs": [],
   "source": []
  },
  {
   "cell_type": "code",
   "execution_count": null,
   "id": "d3d1b288-199b-4539-a812-4375a542340d",
   "metadata": {},
   "outputs": [],
   "source": []
  },
  {
   "cell_type": "code",
   "execution_count": null,
   "id": "72a23612-00e5-4526-bdf3-3c0bcea67131",
   "metadata": {},
   "outputs": [],
   "source": []
  },
  {
   "cell_type": "code",
   "execution_count": null,
   "id": "4be28a5e-bc1f-47ad-a065-0547e6a0a473",
   "metadata": {},
   "outputs": [],
   "source": []
  },
  {
   "cell_type": "code",
   "execution_count": null,
   "id": "4eba17d0-28b5-4af8-b9b7-43cbfb6cdb9c",
   "metadata": {},
   "outputs": [],
   "source": []
  },
  {
   "cell_type": "code",
   "execution_count": null,
   "id": "7322b28a-56ec-44b2-9338-42b5159dc071",
   "metadata": {},
   "outputs": [],
   "source": []
  }
 ],
 "metadata": {
  "kernelspec": {
   "display_name": "Python 3 (ipykernel)",
   "language": "python",
   "name": "python3"
  },
  "language_info": {
   "codemirror_mode": {
    "name": "ipython",
    "version": 3
   },
   "file_extension": ".py",
   "mimetype": "text/x-python",
   "name": "python",
   "nbconvert_exporter": "python",
   "pygments_lexer": "ipython3",
   "version": "3.12.6"
  }
 },
 "nbformat": 4,
 "nbformat_minor": 5
}
