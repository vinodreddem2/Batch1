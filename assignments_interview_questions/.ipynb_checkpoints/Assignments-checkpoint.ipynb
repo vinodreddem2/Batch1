{
 "cells": [
  {
   "cell_type": "code",
   "execution_count": 18,
   "id": "bb1f42d4-cbad-4ea5-9869-1a6913852da0",
   "metadata": {},
   "outputs": [],
   "source": [
    "# Write all five difference between list vs tuple"
   ]
  },
  {
   "cell_type": "code",
   "execution_count": 20,
   "id": "ba4bc4a7-f0a6-4f89-a8d6-cebac96fe5e1",
   "metadata": {},
   "outputs": [],
   "source": [
    "# Write about dict, what are the main three built in functions used in dict?"
   ]
  },
  {
   "cell_type": "code",
   "execution_count": 21,
   "id": "2cf7ef77-a033-4e2e-ba3e-3a8f4dde00fc",
   "metadata": {},
   "outputs": [],
   "source": [
    "# difference between == and is opearator?"
   ]
  },
  {
   "cell_type": "code",
   "execution_count": null,
   "id": "544a6be4-6f60-4530-b9c8-fbe8db8623e0",
   "metadata": {},
   "outputs": [],
   "source": [
    "# How can you get the unique elements in the list?"
   ]
  },
  {
   "cell_type": "code",
   "execution_count": null,
   "id": "6759760e-c596-451d-b80f-d96f9e829b35",
   "metadata": {},
   "outputs": [],
   "source": [
    "# Write few points about slicing concept?"
   ]
  },
  {
   "cell_type": "code",
   "execution_count": 15,
   "id": "c8ea02c8-06aa-4a05-8431-027bb9acc23a",
   "metadata": {},
   "outputs": [],
   "source": [
    "# Write a function that takes a list of integers and returns a new list with only the even numbers."
   ]
  },
  {
   "cell_type": "code",
   "execution_count": 16,
   "id": "fa73410f-7734-427b-be07-bbc37c59517d",
   "metadata": {},
   "outputs": [],
   "source": [
    "# Given a string, write a loop to count the number of vowels in it."
   ]
  },
  {
   "cell_type": "code",
   "execution_count": 17,
   "id": "52d3be96-507d-4f7e-9eaf-94a9d17a1c09",
   "metadata": {},
   "outputs": [],
   "source": [
    "# Create a dictionary where the keys are integers from 1 to 5 and the values are their squares. Use a loop to generate this dictionary."
   ]
  },
  {
   "cell_type": "code",
   "execution_count": 23,
   "id": "f2d32b9d-7044-410d-9b25-b91bb48f7207",
   "metadata": {},
   "outputs": [],
   "source": [
    "# Write basic git commands for clone, pull, push, with explanantion?"
   ]
  },
  {
   "cell_type": "code",
   "execution_count": 24,
   "id": "1a524409-bb74-4253-884a-0da8d138a2f3",
   "metadata": {},
   "outputs": [],
   "source": [
    "# How can we switch from one branch to another branch?"
   ]
  },
  {
   "cell_type": "code",
   "execution_count": null,
   "id": "1c1e528f-2aa2-4164-8887-bb6ecf285130",
   "metadata": {},
   "outputs": [],
   "source": [
    "# How can we create a new branch from the existing branch using command?"
   ]
  },
  {
   "cell_type": "code",
   "execution_count": 25,
   "id": "1966b173-e4a4-4252-bf39-ad0fbc90f5fe",
   "metadata": {},
   "outputs": [],
   "source": [
    "# What is the process if doing ssh?"
   ]
  },
  {
   "cell_type": "code",
   "execution_count": 26,
   "id": "7cfcd972-2dad-4126-b23e-8c0e6a42aa70",
   "metadata": {},
   "outputs": [],
   "source": [
    "# What is PEP 8?"
   ]
  },
  {
   "cell_type": "code",
   "execution_count": 27,
   "id": "198e7778-9136-4735-a30a-11b58b1f9d76",
   "metadata": {},
   "outputs": [],
   "source": [
    "# How do you get Address of a variable?"
   ]
  },
  {
   "cell_type": "code",
   "execution_count": 28,
   "id": "95653fbc-2b55-4868-a1b7-f55b2abe13a2",
   "metadata": {},
   "outputs": [],
   "source": [
    "#  How do you check the data type of a variable in Python?"
   ]
  },
  {
   "cell_type": "code",
   "execution_count": null,
   "id": "f0fce8be-388a-42af-9fba-836249f20310",
   "metadata": {},
   "outputs": [],
   "source": [
    "#  How do you convert a list to a set in Python?"
   ]
  },
  {
   "cell_type": "code",
   "execution_count": null,
   "id": "d6353aa5-15a6-439d-8d54-df9c78e3f0ef",
   "metadata": {},
   "outputs": [],
   "source": [
    "# What are Python’s built-in data types?"
   ]
  },
  {
   "cell_type": "code",
   "execution_count": null,
   "id": "fe97f1cd-bc91-4a94-b89f-65df8275c01c",
   "metadata": {},
   "outputs": [],
   "source": [
    "# What is the difference between a mutable data type and an immutable data type?"
   ]
  },
  {
   "cell_type": "code",
   "execution_count": 1,
   "id": "260b5de7-73cc-40e0-9d56-036380b48a29",
   "metadata": {},
   "outputs": [],
   "source": [
    "# Write a Python Program to convert strings from 'C' language to 'Java' languagr use case.\n",
    "# input:  is_valid_number (c++)\n",
    "# output: isValidNumber (Java)\n",
    "# (Vice Versa)"
   ]
  },
  {
   "cell_type": "code",
   "execution_count": 29,
   "id": "72b11a78-3da3-4eba-803b-073212f77d72",
   "metadata": {},
   "outputs": [],
   "source": [
    "# What are frozensets in Python?"
   ]
  },
  {
   "cell_type": "code",
   "execution_count": 30,
   "id": "3225c993-5733-4562-8b1d-e0b7e42150f9",
   "metadata": {},
   "outputs": [],
   "source": [
    "# How can you concatenate two strings in Python? are those two strins are same or different?"
   ]
  },
  {
   "cell_type": "code",
   "execution_count": 31,
   "id": "c8801f5b-f2f1-4d75-936f-0b163bf9f518",
   "metadata": {},
   "outputs": [],
   "source": [
    "#  How do you find the length of a string in Python?"
   ]
  },
  {
   "cell_type": "code",
   "execution_count": 32,
   "id": "25722c6f-99d1-4857-9897-07919364f52e",
   "metadata": {},
   "outputs": [],
   "source": [
    "# str1 = \"Hello World\"\n",
    "# Reverse a string using slicing as well as looping"
   ]
  },
  {
   "cell_type": "code",
   "execution_count": 33,
   "id": "09a668b0-b7ce-4774-be52-4120d845f252",
   "metadata": {},
   "outputs": [],
   "source": [
    "#  How do you check if a string contains only digits in Python?"
   ]
  },
  {
   "cell_type": "code",
   "execution_count": 34,
   "id": "fd9f6662-cbe1-4322-9969-6bf2f4bd29eb",
   "metadata": {},
   "outputs": [],
   "source": [
    "# Difference between append and extend functions in list?"
   ]
  },
  {
   "cell_type": "code",
   "execution_count": 35,
   "id": "39df27b6-b0e4-4cbb-acd4-79dc8966ffa2",
   "metadata": {},
   "outputs": [],
   "source": [
    "# How do you remove elements from a list?"
   ]
  },
  {
   "cell_type": "code",
   "execution_count": 36,
   "id": "dbe06af5-4726-4e7d-a3c6-7e85b1f2c633",
   "metadata": {},
   "outputs": [],
   "source": [
    "# How do you reverse a list in Python?"
   ]
  },
  {
   "cell_type": "code",
   "execution_count": 37,
   "id": "276b8437-fff7-440a-bf9c-e4a36da28bb5",
   "metadata": {},
   "outputs": [],
   "source": [
    "# Check 5 is present in a list, if present prints True else False?"
   ]
  },
  {
   "cell_type": "code",
   "execution_count": 38,
   "id": "8df89a6e-c7ae-446d-a02c-aea4fa66e96c",
   "metadata": {},
   "outputs": [],
   "source": [
    "# count the occurrences of an element in a Python list?\n",
    "# my_list = [1, 2, 2, 3, 4, 2, 5]\n",
    "# 3 ---- for 2"
   ]
  },
  {
   "cell_type": "code",
   "execution_count": 39,
   "id": "6be6dd85-531f-4955-bfea-ff68ea5218f0",
   "metadata": {},
   "outputs": [],
   "source": [
    "# difference between dict get and [] while accessing the elements?"
   ]
  },
  {
   "cell_type": "code",
   "execution_count": 40,
   "id": "b7863d31-2827-499c-bbf5-bc5bdbf70a89",
   "metadata": {},
   "outputs": [],
   "source": [
    "# How do you remove an item from a Python dictionary?"
   ]
  },
  {
   "cell_type": "code",
   "execution_count": 41,
   "id": "354de2d8-de2c-40d5-b6fc-fa236a80d1e8",
   "metadata": {},
   "outputs": [],
   "source": [
    "# merge two dictionaries in Python?\n",
    "# dict1 = {'name': 'John', 'age': 30}\n",
    "# dict2 = {'city': 'New York', 'age': 31}\n",
    "\n",
    "#  {'name': 'John', 'age': 31, 'city': 'New York'}\n",
    "\n",
    "# Q2. Get all Keys of dict?"
   ]
  },
  {
   "cell_type": "code",
   "execution_count": 42,
   "id": "4a5e4cc4-f994-48b0-8fab-9efb58c9e7df",
   "metadata": {},
   "outputs": [],
   "source": [
    "# keys = ['name', 'age', 'city']\n",
    "# values = ['John', 30, 'New York']\n",
    "\n",
    "# Output: {'name': 'John', 'age': 30, 'city': 'New York'}\n",
    "\n",
    "# Create dict from two lists"
   ]
  },
  {
   "cell_type": "code",
   "execution_count": 44,
   "id": "94498b82-0855-46c6-a19d-cdbad17375d9",
   "metadata": {},
   "outputs": [],
   "source": [
    "# How do you get a value from a dictionary with a default value if the key does not exist? \n",
    "# default value : 100"
   ]
  },
  {
   "cell_type": "code",
   "execution_count": null,
   "id": "24c7d85b-62e7-4128-b2b3-d1b35b399f03",
   "metadata": {},
   "outputs": [],
   "source": []
  },
  {
   "cell_type": "code",
   "execution_count": 2,
   "id": "437e7651-8685-4a56-aa2f-7c2371caf1f3",
   "metadata": {},
   "outputs": [],
   "source": [
    "\n",
    "# Split camel case letters into invidual letters\n",
    "# Python3 program Split camel case  \n",
    "# string to individual strings \n",
    "# input : MyFirstProgram\n",
    "# output: ['My',  'First','Program']a"
   ]
  },
  {
   "cell_type": "code",
   "execution_count": 4,
   "id": "c960baa5-7c5c-4487-8f79-a91f7294f284",
   "metadata": {},
   "outputs": [],
   "source": [
    "# Output list needs to have difference or minus one, if difference positve from this elm to next elm -- write differene else -1\n",
    "# Input list and Output list  --\n",
    "# list_input = [2,4,12,6,2,9,10]\n",
    "# out_put = [2,8,-1,3,7,1,-1] \n"
   ]
  },
  {
   "cell_type": "code",
   "execution_count": 6,
   "id": "5f21b6f9-c07a-4785-a563-c420a5fd62bd",
   "metadata": {},
   "outputs": [],
   "source": [
    "# Q. ABCDE --- Move 2 positions cyclic (Use Mod to length of string if Cyclic position is greater than length)\n",
    "# Now result is ---CDEAB\n",
    "# inp: ABCDE\n",
    "# output: CDEAB"
   ]
  },
  {
   "cell_type": "code",
   "execution_count": 45,
   "id": "d23b1c3c-174a-4465-a990-363c6a52b8de",
   "metadata": {},
   "outputs": [],
   "source": [
    "# flatten a list\n",
    "# [1,2,[5,6],[8,9],10]\n",
    "# [1,2,5,6,8,9,10]"
   ]
  },
  {
   "cell_type": "code",
   "execution_count": 47,
   "id": "5401a461-1b26-4f18-bea1-2365d0e05138",
   "metadata": {},
   "outputs": [],
   "source": [
    " # How do you convert a dictionary into a list of tuples (key, value) pairs?"
   ]
  },
  {
   "cell_type": "code",
   "execution_count": 48,
   "id": "2b4d01de-1735-40e2-a41a-18caf9f6574c",
   "metadata": {},
   "outputs": [],
   "source": [
    "# How do you swap keys and values in a Python dictionary?"
   ]
  },
  {
   "cell_type": "code",
   "execution_count": 49,
   "id": "1722c268-af44-4960-976c-606c8c7f8af3",
   "metadata": {},
   "outputs": [],
   "source": [
    "# What is an array in Python? How do you create an array in Python?"
   ]
  },
  {
   "cell_type": "code",
   "execution_count": 50,
   "id": "44497362-7b83-45ef-859e-e02f71ffb8d2",
   "metadata": {},
   "outputs": [],
   "source": [
    "# How do you access elements in an array in Python?"
   ]
  },
  {
   "cell_type": "code",
   "execution_count": 51,
   "id": "400ec621-938c-4577-b303-2f67ffcf01ad",
   "metadata": {},
   "outputs": [],
   "source": [
    "# Write a program in Python to check if a string is a palindrome."
   ]
  },
  {
   "cell_type": "code",
   "execution_count": 52,
   "id": "d6c3ed71-a1e2-48d6-8f4f-40b25e8246fa",
   "metadata": {},
   "outputs": [],
   "source": [
    "# Write a program in Python to find the first two largest elements in a list."
   ]
  },
  {
   "cell_type": "code",
   "execution_count": 53,
   "id": "13677936-e5a2-4be6-9718-9ab4bca0bbc1",
   "metadata": {},
   "outputs": [],
   "source": [
    "# Write a program in Python to find the sum of digits of a number."
   ]
  },
  {
   "cell_type": "code",
   "execution_count": 54,
   "id": "f100067b-53c8-4513-bd7d-be6e94f5aec2",
   "metadata": {},
   "outputs": [],
   "source": [
    "# Write a program in Python to check if a number is prime."
   ]
  },
  {
   "cell_type": "code",
   "execution_count": 56,
   "id": "323190e5-be8b-48cb-871b-e8166d342b51",
   "metadata": {},
   "outputs": [],
   "source": [
    "# Write a function called filter_even_numbers that takes a list of integers as input and returns a new list containing only the even numbers\n",
    "# Input: [1, 2, 3, 4, 5, 6]\n",
    "# Output: [2, 4, 6]\n"
   ]
  },
  {
   "cell_type": "code",
   "execution_count": 58,
   "id": "2aa99519-6290-448f-b6ff-1253661b9ac0",
   "metadata": {},
   "outputs": [],
   "source": [
    "# Write a function called multiplication_table that takes an integer n and prints the multiplication table for numbers from 1 to n.\n",
    "\n",
    "# Input: 3\n",
    "# Output:\n",
    "# 1 x 1 = 1\n",
    "# 1 x 2 = 2\n",
    "# 1 x 3 = 3\n",
    "# 2 x 1 = 2\n",
    "# 2 x 2 = 4\n",
    "# 2 x 3 = 6\n",
    "# 3 x 1 = 3\n",
    "# 3 x 2 = 6\n",
    "# 3 x 3 = 9\n"
   ]
  },
  {
   "cell_type": "code",
   "execution_count": 59,
   "id": "32ff7e3d-92cb-4d09-85e4-b719c53048c3",
   "metadata": {},
   "outputs": [],
   "source": [
    "# Write a function called generate_squares that creates a dictionary where the keys are integers from 1 to 5, and the values are their squares. Return the dictionary."
   ]
  },
  {
   "cell_type": "code",
   "execution_count": null,
   "id": "169a42f4-aef6-4f71-bdf9-9f93c8259ae6",
   "metadata": {},
   "outputs": [],
   "source": [
    "# Write a function called word_frequency that takes a string and returns a dictionary where the keys are the words and the values are their counts.\n",
    "# Input: \"hello world hello\"\n",
    "# Output: {\"hello\": 2, \"world\": 1}\n"
   ]
  },
  {
   "cell_type": "code",
   "execution_count": 7,
   "id": "8f641511-4f4f-48aa-9c1e-d1757fe931c6",
   "metadata": {},
   "outputs": [],
   "source": [
    "# lst = ['abt','bta','tab','bar','dsksllkd','tba']\n",
    "# group all anagrams into a list\n",
    "# ['abt', 'bta', 'tab', 'tba'], ['bar'], ['dsksllkd']"
   ]
  },
  {
   "cell_type": "code",
   "execution_count": null,
   "id": "0820787d-c2bf-4adc-93d4-aa469edb879d",
   "metadata": {},
   "outputs": [],
   "source": [
    "# Printing Patterns \n",
    "\n",
    "1. \n",
    "####\n",
    "####\n",
    "####\n",
    "####\n",
    "\n",
    "2. \n",
    "\n",
    "*\n",
    "**\n",
    "***\n",
    "****\n",
    "\n",
    "3.\n",
    "\n",
    "      &\n",
    "     &&\n",
    "    &&&\n",
    "   &&&&\n",
    "  &&&&&  \n",
    "\n",
    "\n",
    "4. \n",
    "\n",
    "&&&&\n",
    "&&&\n",
    "&&\n",
    "&"
   ]
  },
  {
   "cell_type": "code",
   "execution_count": 8,
   "id": "b3f76f35-4ecb-4bf0-bcfb-478a59c43916",
   "metadata": {},
   "outputs": [],
   "source": [
    "# Reverse a integer without converting into string\n",
    "# inp = 123653\n",
    "# out : 356321"
   ]
  },
  {
   "cell_type": "code",
   "execution_count": 9,
   "id": "f80e4482-34a3-4fdb-af7f-1597745ff5e8",
   "metadata": {},
   "outputs": [],
   "source": [
    "# lst = [1,1,0,0,0,1,1,0]\n",
    "# Sort the number"
   ]
  },
  {
   "cell_type": "code",
   "execution_count": 10,
   "id": "62e0915d-f5b6-478f-a838-b791554bbb84",
   "metadata": {},
   "outputs": [],
   "source": [
    "# Prime Number Program"
   ]
  },
  {
   "cell_type": "code",
   "execution_count": 11,
   "id": "38ac2239-5191-4e8a-94d7-c53cc2ffe932",
   "metadata": {},
   "outputs": [],
   "source": [
    "# Swap all zeroes to first\n",
    "# lst = [1,0,1,0,0,1,1,0]\n",
    "# [0, 0, 0, 0, 1, 1, 1, 1]"
   ]
  },
  {
   "cell_type": "code",
   "execution_count": 12,
   "id": "66269d94-eec4-467d-b558-48e1912fe1f5",
   "metadata": {},
   "outputs": [],
   "source": [
    "# Swap all zeroes to last\n",
    "# lst = [1,0,1,0,0,1,1,0]\n",
    "# [ 1, 1, 1, 1, 0, 0, 0, 0]"
   ]
  },
  {
   "cell_type": "code",
   "execution_count": 13,
   "id": "365fbd45-964c-4b93-944d-0377b8c7abc6",
   "metadata": {},
   "outputs": [],
   "source": [
    "# String Count\n",
    "# in_str = 'aabbcdd'\n",
    "# a2b2c1d2"
   ]
  },
  {
   "cell_type": "code",
   "execution_count": 14,
   "id": "fe3db4ca-839c-4af5-9f22-dba270460cba",
   "metadata": {},
   "outputs": [],
   "source": [
    "# Write a program for Bubble Sort, Insertion Sort"
   ]
  },
  {
   "cell_type": "code",
   "execution_count": 22,
   "id": "532ced49-c05b-4a14-af5e-189050502a46",
   "metadata": {},
   "outputs": [],
   "source": [
    "# Q. how to get sub lists which we are going to get sum of two elements as 10.\n",
    "#  lst = [1,2,3,4,5,6,7,8,9,10]\n",
    "#   which is having two numbers."
   ]
  },
  {
   "cell_type": "code",
   "execution_count": 60,
   "id": "44ad282d-754e-4219-827f-879a2d93b9c2",
   "metadata": {},
   "outputs": [],
   "source": [
    "# Write a function called sum_of_list that takes a list of integers and returns the sum of all the numbers using a for loop.\n",
    "# Input: [1, 2, 3, 4]\n",
    "# Output: 10\n"
   ]
  },
  {
   "cell_type": "code",
   "execution_count": null,
   "id": "38bcd16a-deff-44dd-8026-ce4da5b7b9b5",
   "metadata": {},
   "outputs": [],
   "source": [
    "# Write a function called count_down that takes a positive integer n and prints the numbers from n down to 1 using a while loop.\n",
    "# Input: 5\n",
    "# Output: 5, 4, 3, 2, 1\n"
   ]
  },
  {
   "cell_type": "code",
   "execution_count": 62,
   "id": "de48322a-6b3e-4b09-b410-35bebcfe4972",
   "metadata": {},
   "outputs": [],
   "source": [
    "# Write a function called find_primes that takes an integer n and returns a list of all prime numbers less than n using a for loop.\n",
    "# Input: 10\n",
    "# Output: [2, 3, 5, 7]\n"
   ]
  },
  {
   "cell_type": "code",
   "execution_count": null,
   "id": "df900330-205f-463c-a1be-b56fcc13065a",
   "metadata": {},
   "outputs": [],
   "source": []
  }
 ],
 "metadata": {
  "kernelspec": {
   "display_name": "Python 3 (ipykernel)",
   "language": "python",
   "name": "python3"
  },
  "language_info": {
   "codemirror_mode": {
    "name": "ipython",
    "version": 3
   },
   "file_extension": ".py",
   "mimetype": "text/x-python",
   "name": "python",
   "nbconvert_exporter": "python",
   "pygments_lexer": "ipython3",
   "version": "3.11.7"
  }
 },
 "nbformat": 4,
 "nbformat_minor": 5
}
