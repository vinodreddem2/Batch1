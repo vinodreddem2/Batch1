{
 "cells": [
  {
   "cell_type": "markdown",
   "id": "ef35dd54",
   "metadata": {},
   "source": [
    "### Advanced Practical Questions"
   ]
  },
  {
   "cell_type": "markdown",
   "id": "f6e83313",
   "metadata": {},
   "source": [
    "Q. Create a nested data structure that represents a book collection. Each book should have a title, author, and year published. Write functions to add books, remove books, and list all books by a specific author."
   ]
  },
  {
   "cell_type": "code",
   "execution_count": 8,
   "id": "32160f34",
   "metadata": {},
   "outputs": [
    {
     "data": {
      "text/plain": [
       "[{'title': 'Monk who sold his ferrari',\n",
       "  'author': 'Robin Sharma',\n",
       "  'year': 2015},\n",
       " {'title': 'Monk ', 'author': 'Robin ', 'year': 2016},\n",
       " {'title': ' who sold his ferrari', 'author': ' Sharma', 'year': 2017},\n",
       " {'title': 'his ferrari', 'author': 'RobSha', 'year': 2019}]"
      ]
     },
     "execution_count": 8,
     "metadata": {},
     "output_type": "execute_result"
    }
   ],
   "source": [
    "book_collection=[]\n",
    "\n",
    "\n",
    "def add_book(book_obj):\n",
    "    book_collection.append(book_obj)\n",
    "\n",
    "\n",
    "def delete_book(title):\n",
    "    for book in book_collection:\n",
    "        if book[\"title\"]==title:\n",
    "            book_collection.remove(book)\n",
    "        \n",
    "        \n",
    "def list_books(author):\n",
    "    for book in book_collection:\n",
    "        if book.author==author:\n",
    "            print(book)\n",
    "\n",
    "add_book({\n",
    "    \"title\":\"Monk who sold his ferrari\",\n",
    "    \"author\":\"Robin Sharma\",\n",
    "    \"year\":2015,\n",
    "    })\n",
    "add_book({\n",
    "    \"title\":\"Monk \",\n",
    "    \"author\":\"Robin \",\n",
    "    \"year\":2016,\n",
    "    })\n",
    "add_book({\n",
    "    \"title\":\" who sold his ferrari\",\n",
    "    \"author\":\" Sharma\",\n",
    "    \"year\":2017,\n",
    "    })\n",
    "add_book({\n",
    "    \"title\":\"his ferrari\",\n",
    "    \"author\":\"RobSha\",\n",
    "    \"year\":2019,\n",
    "    })    \n",
    "      \n",
    "# delete_book(\"Monk who sold his ferrari\")\n",
    "book_collection     "
   ]
  },
  {
   "cell_type": "markdown",
   "id": "7b8f3b5b",
   "metadata": {},
   "source": [
    "Q. Write a function that accepts a dictionary representing a user's profile (with fields like name, age, email) and validates the data types and values (e.g., age should be an integer, email should contain '@'). Return any errors found."
   ]
  },
  {
   "cell_type": "code",
   "execution_count": 3,
   "id": "14319460",
   "metadata": {},
   "outputs": [
    {
     "ename": "AttributeError",
     "evalue": "'dict' object has no attribute 'age'",
     "output_type": "error",
     "traceback": [
      "\u001b[1;31m---------------------------------------------------------------------------\u001b[0m",
      "\u001b[1;31mAttributeError\u001b[0m                            Traceback (most recent call last)",
      "Cell \u001b[1;32mIn[3], line 7\u001b[0m\n\u001b[0;32m      4\u001b[0m     \u001b[38;5;28;01mif\u001b[39;00m \u001b[38;5;124m'\u001b[39m\u001b[38;5;124m@\u001b[39m\u001b[38;5;124m'\u001b[39m \u001b[38;5;129;01mnot\u001b[39;00m \u001b[38;5;129;01min\u001b[39;00m user\u001b[38;5;241m.\u001b[39memail:\n\u001b[0;32m      5\u001b[0m         \u001b[38;5;28;01mreturn\u001b[39;00m \u001b[38;5;124m\"\u001b[39m\u001b[38;5;124mThis is not a valid email\u001b[39m\u001b[38;5;124m\"\u001b[39m\n\u001b[1;32m----> 7\u001b[0m \u001b[43mcreate_User\u001b[49m\u001b[43m(\u001b[49m\u001b[43m{\u001b[49m\u001b[38;5;124;43m\"\u001b[39;49m\u001b[38;5;124;43mname\u001b[39;49m\u001b[38;5;124;43m\"\u001b[39;49m\u001b[43m:\u001b[49m\u001b[38;5;124;43m\"\u001b[39;49m\u001b[38;5;124;43mMahesh\u001b[39;49m\u001b[38;5;124;43m\"\u001b[39;49m\u001b[43m,\u001b[49m\u001b[38;5;124;43m\"\u001b[39;49m\u001b[38;5;124;43mage\u001b[39;49m\u001b[38;5;124;43m\"\u001b[39;49m\u001b[43m:\u001b[49m\u001b[38;5;241;43m25\u001b[39;49m\u001b[43m,\u001b[49m\u001b[38;5;124;43m\"\u001b[39;49m\u001b[38;5;124;43memail\u001b[39;49m\u001b[38;5;124;43m\"\u001b[39;49m\u001b[43m:\u001b[49m\u001b[38;5;124;43m\"\u001b[39;49m\u001b[38;5;124;43mmahesh.nandavaram96@gmail.com\u001b[39;49m\u001b[38;5;124;43m\"\u001b[39;49m\u001b[43m}\u001b[49m\u001b[43m)\u001b[49m \n",
      "Cell \u001b[1;32mIn[3], line 2\u001b[0m, in \u001b[0;36mcreate_User\u001b[1;34m(user)\u001b[0m\n\u001b[0;32m      1\u001b[0m \u001b[38;5;28;01mdef\u001b[39;00m \u001b[38;5;21mcreate_User\u001b[39m(user):\n\u001b[1;32m----> 2\u001b[0m     \u001b[38;5;28;01mif\u001b[39;00m \u001b[38;5;129;01mnot\u001b[39;00m \u001b[38;5;28mtype\u001b[39m(\u001b[43muser\u001b[49m\u001b[38;5;241;43m.\u001b[39;49m\u001b[43mage\u001b[49m)\u001b[38;5;241m==\u001b[39m\u001b[38;5;28mint\u001b[39m:\n\u001b[0;32m      3\u001b[0m         \u001b[38;5;28;01mreturn\u001b[39;00m \u001b[38;5;124m\"\u001b[39m\u001b[38;5;124mAge should be Integer\u001b[39m\u001b[38;5;124m\"\u001b[39m\n\u001b[0;32m      4\u001b[0m     \u001b[38;5;28;01mif\u001b[39;00m \u001b[38;5;124m'\u001b[39m\u001b[38;5;124m@\u001b[39m\u001b[38;5;124m'\u001b[39m \u001b[38;5;129;01mnot\u001b[39;00m \u001b[38;5;129;01min\u001b[39;00m user\u001b[38;5;241m.\u001b[39memail:\n",
      "\u001b[1;31mAttributeError\u001b[0m: 'dict' object has no attribute 'age'"
     ]
    }
   ],
   "source": [
    "\n",
    "    "
   ]
  },
  {
   "cell_type": "markdown",
   "id": "fb89b2b0",
   "metadata": {},
   "source": [
    "Q. Demonstrate the difference between shallow and deep copying with a nested list. Write code that shows how modifying a nested structure affects shallow copies but not deep copies."
   ]
  },
  {
   "cell_type": "markdown",
   "id": "12849fe0",
   "metadata": {},
   "source": [
    "Q. Use the json module to serialize a complex data structure (like a list of dictionaries). Write code to convert it to a JSON string and then back to a Python object, demonstrating the entire process."
   ]
  },
  {
   "cell_type": "markdown",
   "id": "74136b09",
   "metadata": {},
   "source": [
    "Q. Create a class that implements a stack data structure using a list. Implement methods for push, pop, and peek. Ensure that your class raises exceptions for pop operations on an empty stack."
   ]
  },
  {
   "cell_type": "markdown",
   "id": "41ac2d3f",
   "metadata": {},
   "source": [
    "Q. Write a function that takes a list and returns a dictionary with the count of each unique element. Use a combination of data types effectively (e.g., using a set for unique keys)."
   ]
  },
  {
   "cell_type": "markdown",
   "id": "16c8344a",
   "metadata": {},
   "source": [
    "Q. Write a function that takes a nested list and flattens it into a single list. For example, inputting [1, [2, 3], [4, [5, 6]]] should return [1, 2, 3, 4, 5, 6]."
   ]
  },
  {
   "cell_type": "markdown",
   "id": "1f05192e",
   "metadata": {},
   "source": [
    "Q. Write a function that checks if two strings are anagrams of each other. Use appropriate data types to count characters and ensure the solution is efficient."
   ]
  },
  {
   "cell_type": "markdown",
   "id": "613399cf",
   "metadata": {},
   "source": [
    "Q. Write a function that takes a list of tuples (each representing a student's name and their score) and groups the students by score ranges (e.g., A (score 0-50), B(score 51-75), C(score 76-100) includes both range values).\n",
    "\n",
    "\n",
    "Return a dictionary where keys are grade categories and values are lists of student names."
   ]
  },
  {
   "cell_type": "markdown",
   "id": "0da0d226",
   "metadata": {},
   "source": [
    "Q. Fibonacci series generation"
   ]
  },
  {
   "cell_type": "markdown",
   "id": "c14ae40a",
   "metadata": {},
   "source": [
    "Q. Write a function that takes a list of dictionaries representing products (with fields like name, price, and category) and filters them based on a specified price range and category."
   ]
  },
  {
   "cell_type": "markdown",
   "id": "e7d51785",
   "metadata": {},
   "source": [
    "Q. Create a list of dictionaries representing employees (with fields like name, age, and salary). Write a function that sorts this list by salary in descending order and then by age in ascending order."
   ]
  }
 ],
 "metadata": {
  "kernelspec": {
   "display_name": ".venv",
   "language": "python",
   "name": "python3"
  },
  "language_info": {
   "codemirror_mode": {
    "name": "ipython",
    "version": 3
   },
   "file_extension": ".py",
   "mimetype": "text/x-python",
   "name": "python",
   "nbconvert_exporter": "python",
   "pygments_lexer": "ipython3",
   "version": "3.11.5"
  }
 },
 "nbformat": 4,
 "nbformat_minor": 5
}
