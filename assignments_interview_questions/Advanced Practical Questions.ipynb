{
 "cells": [
  {
   "cell_type": "markdown",
   "id": "ef35dd54",
   "metadata": {},
   "source": [
    "### Advanced Practical Questions"
   ]
  },
  {
   "cell_type": "markdown",
   "id": "f6e83313",
   "metadata": {},
   "source": [
    "Q. Create a nested data structure that represents a book collection. Each book should have a title, author, and year published. Write functions to add books, remove books, and list all books by a specific author."
   ]
  },
  {
   "cell_type": "markdown",
   "id": "7b8f3b5b",
   "metadata": {},
   "source": [
    "Q. Write a function that accepts a dictionary representing a user's profile (with fields like name, age, email) and validates the data types and values (e.g., age should be an integer, email should contain '@'). Return any errors found."
   ]
  },
  {
   "cell_type": "markdown",
   "id": "fb89b2b0",
   "metadata": {},
   "source": [
    "Q. Demonstrate the difference between shallow and deep copying with a nested list. Write code that shows how modifying a nested structure affects shallow copies but not deep copies."
   ]
  },
  {
   "cell_type": "markdown",
   "id": "12849fe0",
   "metadata": {},
   "source": [
    "Q. Use the json module to serialize a complex data structure (like a list of dictionaries). Write code to convert it to a JSON string and then back to a Python object, demonstrating the entire process."
   ]
  },
  {
   "cell_type": "markdown",
   "id": "74136b09",
   "metadata": {},
   "source": [
    "Q. Create a class that implements a stack data structure using a list. Implement methods for push, pop, and peek. Ensure that your class raises exceptions for pop operations on an empty stack."
   ]
  },
  {
   "cell_type": "markdown",
   "id": "41ac2d3f",
   "metadata": {},
   "source": [
    "Q. Write a function that takes a list and returns a dictionary with the count of each unique element. Use a combination of data types effectively (e.g., using a set for unique keys)."
   ]
  },
  {
   "cell_type": "markdown",
   "id": "16c8344a",
   "metadata": {},
   "source": [
    "Q. Write a function that takes a nested list and flattens it into a single list. For example, inputting [1, [2, 3], [4, [5, 6]]] should return [1, 2, 3, 4, 5, 6]."
   ]
  },
  {
   "cell_type": "markdown",
   "id": "1f05192e",
   "metadata": {},
   "source": [
    "Q. Write a function that checks if two strings are anagrams of each other. Use appropriate data types to count characters and ensure the solution is efficient."
   ]
  },
  {
   "cell_type": "markdown",
   "id": "613399cf",
   "metadata": {},
   "source": [
    "Q. Write a function that takes a list of tuples (each representing a student's name and their score) and groups the students by score ranges (e.g., A (score 0-50), B(score 51-75), C(score 76-100) includes both range values).\n",
    "\n",
    "\n",
    "Return a dictionary where keys are grade categories and values are lists of student names."
   ]
  },
  {
   "cell_type": "markdown",
   "id": "0da0d226",
   "metadata": {},
   "source": [
    "Q. Fibonacci series generation"
   ]
  },
  {
   "cell_type": "markdown",
   "id": "c14ae40a",
   "metadata": {},
   "source": [
    "Q. Write a function that takes a list of dictionaries representing products (with fields like name, price, and category) and filters them based on a specified price range and category."
   ]
  },
  {
   "cell_type": "markdown",
   "id": "e7d51785",
   "metadata": {},
   "source": [
    "Q. Create a list of dictionaries representing employees (with fields like name, age, and salary). Write a function that sorts this list by salary in descending order and then by age in ascending order."
   ]
  }
 ],
 "metadata": {
  "kernelspec": {
   "display_name": "Python 3 (ipykernel)",
   "language": "python",
   "name": "python3"
  },
  "language_info": {
   "codemirror_mode": {
    "name": "ipython",
    "version": 3
   },
   "file_extension": ".py",
   "mimetype": "text/x-python",
   "name": "python",
   "nbconvert_exporter": "python",
   "pygments_lexer": "ipython3",
   "version": "3.7.3"
  }
 },
 "nbformat": 4,
 "nbformat_minor": 5
}
