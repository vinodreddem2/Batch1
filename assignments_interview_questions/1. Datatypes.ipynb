{
 "cells": [
  {
   "cell_type": "markdown",
   "id": "95f386c9",
   "metadata": {},
   "source": [
    "#### Q. Difference between floor and Normal division?"
   ]
  },
  {
   "cell_type": "markdown",
   "id": "c1884e6d",
   "metadata": {},
   "source": [
    "#### Q. checks if a given number is prime."
   ]
  },
  {
   "cell_type": "markdown",
   "id": "95584ace",
   "metadata": {},
   "source": [
    "#### Q. Write and understood few on +=, -=, *=, /= operators? "
   ]
  },
  {
   "cell_type": "markdown",
   "id": "a15bc7da",
   "metadata": {},
   "source": [
    "#### Q. Checks if a given string is a palindrome (reads the same forwards and backwards)."
   ]
  },
  {
   "cell_type": "markdown",
   "id": "b6e3b273",
   "metadata": {},
   "source": [
    "#### Q.counts the number of vowels and consonants in a given string?"
   ]
  },
  {
   "cell_type": "markdown",
   "id": "a8b4aa33",
   "metadata": {},
   "source": [
    "#### Q.Takes a string and returns a dictionary with the frequency of each character."
   ]
  },
  {
   "cell_type": "markdown",
   "id": "8034af02",
   "metadata": {},
   "source": [
    "#### Q. Convert snake case into Camel case and vice versa\n",
    "   inp = \"is_valid_number\" --->isValidNumber"
   ]
  },
  {
   "cell_type": "markdown",
   "id": "d76fe9b9",
   "metadata": {},
   "source": [
    " #### Q. Move Chars for Position Cyclic\n",
    " \"\"\"ABCDE --- Move 2 positions cyclic (Use Mod to length of string if Cyclic position is greater than length)\n",
    "      Now result is ---CDEAB\n",
    "      input : ABCDE\n",
    "      output: CDEAB  \n",
    "    \"\"\""
   ]
  },
  {
   "cell_type": "markdown",
   "id": "d61b6c0d",
   "metadata": {},
   "source": [
    "#### Q. \"\"\"AAAABBBCCDDDD you have to print it as 4A3B2C4D\"\"\""
   ]
  },
  {
   "cell_type": "markdown",
   "id": "17f5d12b",
   "metadata": {},
   "source": [
    "##### Q. Create a list and reverse it using the slicing."
   ]
  },
  {
   "cell_type": "markdown",
   "id": "52491660",
   "metadata": {},
   "source": [
    "#### Q. Write a program that creates a list of numbers from 1 to 20, then prints the list, its length, and the maximum and minimum values."
   ]
  },
  {
   "cell_type": "markdown",
   "id": "d58ca4ed",
   "metadata": {},
   "source": [
    "#### Q.Use list comprehension to create a list of squares of even numbers from 1 to 30."
   ]
  },
  {
   "cell_type": "markdown",
   "id": "1d88667e",
   "metadata": {},
   "source": [
    "#### Q.Write a function that takes two lists and returns a new list containing the elements from both lists without duplicates."
   ]
  },
  {
   "cell_type": "markdown",
   "id": "f4cb5b61",
   "metadata": {},
   "source": [
    "#### Q.Create a function that identifies and returns any duplicate values from a list."
   ]
  },
  {
   "cell_type": "markdown",
   "id": "ea1433bd",
   "metadata": {},
   "source": [
    "#### Q.Write a program that demonstrates the use of basic set operations: union, intersection, and difference. Use two sample sets."
   ]
  },
  {
   "cell_type": "markdown",
   "id": "39625171",
   "metadata": {},
   "source": [
    "#### Q.Write a function that takes a list and returns a set of unique elements."
   ]
  },
  {
   "cell_type": "markdown",
   "id": "8adf60f3",
   "metadata": {},
   "source": [
    "#### Q.Create a function that takes two lists and returns a set of elements that are common to both."
   ]
  },
  {
   "cell_type": "markdown",
   "id": "8160bb21",
   "metadata": {},
   "source": [
    "#### Q.Write a function that takes two sets and returns the symmetric difference (elements in either set but not in both)."
   ]
  },
  {
   "cell_type": "markdown",
   "id": "c2d5ae32",
   "metadata": {},
   "source": [
    "#### Q.Write a program that creates a dictionary to store student names as keys and their grades as values. Allow user input to add entries."
   ]
  },
  {
   "cell_type": "markdown",
   "id": "805b9890",
   "metadata": {},
   "source": [
    "#### Q.Given a dictionary of employee names and their salaries, write a function that returns the name of the employee with the highest salary?"
   ]
  },
  {
   "cell_type": "markdown",
   "id": "b71bd75b",
   "metadata": {},
   "source": [
    "#### Q. takes a sentence, splits it into words, and returns a list of unique words."
   ]
  },
  {
   "cell_type": "markdown",
   "id": "7e99974f",
   "metadata": {},
   "source": [
    "#### Q. Create Python object which stores collection pof books which contains book information like author, cost and number of pages"
   ]
  },
  {
   "cell_type": "markdown",
   "id": "8d60caa5",
   "metadata": {},
   "source": [
    "#### Q.Write a program that converts a list of temperatures from Celsius to Fahrenheit. Use a dictionary to store the original and converted values."
   ]
  },
  {
   "cell_type": "markdown",
   "id": "4e752555",
   "metadata": {},
   "source": [
    "#### Q.Write a program that takes user input for name, age, and hobbies, and stores this information in a dictionary. Allow the user to update their profile."
   ]
  },
  {
   "cell_type": "markdown",
   "id": "8c6d8288",
   "metadata": {},
   "source": [
    "#### Q. Anagram Words group each other.\n",
    "\n",
    "  group the elements like below \n",
    " \n",
    " input : ['abt','bta','tab','bar','dsksllkd','tba']\n",
    " \n",
    " output : [['abt', 'bta', 'tab', 'tba'], ['bar'], ['dsksllkd']]        "
   ]
  },
  {
   "cell_type": "markdown",
   "id": "f34850ce",
   "metadata": {},
   "source": [
    "#### Q. Shift all zeroes to last\n",
    "\n",
    "lst = [1,0,1,0,0,1,1,0]"
   ]
  },
  {
   "cell_type": "code",
   "execution_count": null,
   "id": "7761487d",
   "metadata": {},
   "outputs": [],
   "source": []
  }
 ],
 "metadata": {
  "kernelspec": {
   "display_name": "Python 3 (ipykernel)",
   "language": "python",
   "name": "python3"
  },
  "language_info": {
   "codemirror_mode": {
    "name": "ipython",
    "version": 3
   },
   "file_extension": ".py",
   "mimetype": "text/x-python",
   "name": "python",
   "nbconvert_exporter": "python",
   "pygments_lexer": "ipython3",
   "version": "3.7.3"
  }
 },
 "nbformat": 4,
 "nbformat_minor": 5
}
