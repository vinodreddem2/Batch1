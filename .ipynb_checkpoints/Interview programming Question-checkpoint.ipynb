{
 "cells": [
  {
   "attachments": {},
   "cell_type": "markdown",
   "id": "50bf1f7e-40f7-4721-a12e-d068f0555f44",
   "metadata": {},
   "source": [
    "Problem Statement\n",
    "\n",
    "A number can eat the number to the right of it if it's smaller\n",
    "than itself. After eating that number, it becomes the sum of\n",
    "itself and that number. Your job is to return the final array after\n",
    "the leftmost element has finished \"eating\"\n",
    "\n",
    "Input & Output\n",
    "\n",
    "Input Format\n",
    "\n",
    ".\n",
    "The first line contains an integer n, the number of\n",
    "elements in input array.\n",
    "\n",
    ".\n",
    "The next line contains space-separated integers which are\n",
    "the elements of the array\n",
    "\n",
    "Input Constraints\n",
    "\n",
    ". Each array has at least 2 elements\n",
    ". Each element is an integer\n",
    "\n",
    "Output Format\n",
    "\n",
    "The output is an array of integers\n",
    "\n",
    "Examples\n"
   ]
  }
 ],
 "metadata": {
  "kernelspec": {
   "display_name": "Python 3 (ipykernel)",
   "language": "python",
   "name": "python3"
  },
  "language_info": {
   "codemirror_mode": {
    "name": "ipython",
    "version": 3
   },
   "file_extension": ".py",
   "mimetype": "text/x-python",
   "name": "python",
   "nbconvert_exporter": "python",
   "pygments_lexer": "ipython3",
   "version": "3.12.6"
  }
 },
 "nbformat": 4,
 "nbformat_minor": 5
}
